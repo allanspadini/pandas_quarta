{
  "nbformat": 4,
  "nbformat_minor": 0,
  "metadata": {
    "colab": {
      "name": "Pandas_quarta.ipynb",
      "provenance": [],
      "collapsed_sections": []
    },
    "kernelspec": {
      "name": "python3",
      "display_name": "Python 3"
    }
  },
  "cells": [
    {
      "cell_type": "code",
      "metadata": {
        "id": "v7QzcRwoBWwm"
      },
      "source": [
        "url='https://raw.githubusercontent.com/alura-cursos/agendamento-hospitalar/main/dados/A160324189_28_143_208.csv'"
      ],
      "execution_count": null,
      "outputs": []
    },
    {
      "cell_type": "code",
      "metadata": {
        "id": "2ZuTHaaWBaca"
      },
      "source": [
        "import pandas as pd"
      ],
      "execution_count": null,
      "outputs": []
    },
    {
      "cell_type": "code",
      "metadata": {
        "id": "_dJs9n6sBcTJ"
      },
      "source": [
        "dados = pd.read_csv(url, encoding=\"ISO-8859-1\", \n",
        "                    skiprows = 3, sep=\";\", skipfooter=12,\n",
        "                    thousands=\".\", decimal=\",\")\n",
        "dados.head()"
      ],
      "execution_count": null,
      "outputs": []
    },
    {
      "cell_type": "code",
      "metadata": {
        "id": "ve10H0Wtnc_M"
      },
      "source": [
        "dados.replace('-',0,inplace=True)\n",
        "dados.head()"
      ],
      "execution_count": null,
      "outputs": []
    },
    {
      "cell_type": "code",
      "metadata": {
        "id": "erlfh3D3lsBE"
      },
      "source": [
        "dados.replace(0,'NaN',inplace=True)\n",
        "dados.head()"
      ],
      "execution_count": null,
      "outputs": []
    },
    {
      "cell_type": "code",
      "metadata": {
        "id": "2OlLuHFqlsEU"
      },
      "source": [
        "dados.isnull().head()"
      ],
      "execution_count": null,
      "outputs": []
    },
    {
      "cell_type": "code",
      "metadata": {
        "id": "T7pEHAGqlsHk"
      },
      "source": [
        "dados.replace('NaN',float('nan'),inplace=True)\n",
        "dados.head()"
      ],
      "execution_count": null,
      "outputs": []
    },
    {
      "cell_type": "code",
      "metadata": {
        "id": "MLRRNkUzlsKg"
      },
      "source": [
        "dados.isnull().head()"
      ],
      "execution_count": null,
      "outputs": []
    },
    {
      "cell_type": "code",
      "metadata": {
        "id": "mLn7NC2XlsPH"
      },
      "source": [
        "colunas_usaveis = dados.mean().index.tolist()\n",
        "colunas_usaveis.insert(0,'Unidade da Federação')\n",
        "colunas_usaveis"
      ],
      "execution_count": null,
      "outputs": []
    },
    {
      "cell_type": "code",
      "metadata": {
        "id": "VAbO3lnplsRj"
      },
      "source": [
        "usaveis = dados[colunas_usaveis]"
      ],
      "execution_count": null,
      "outputs": []
    },
    {
      "cell_type": "code",
      "metadata": {
        "id": "n61zu6cclsUL"
      },
      "source": [
        "usaveis = usaveis.set_index('Unidade da Federação')"
      ],
      "execution_count": null,
      "outputs": []
    },
    {
      "cell_type": "code",
      "metadata": {
        "id": "-fjOSctglsZ6"
      },
      "source": [
        "usaveis = usaveis.drop('Total',axis=1)"
      ],
      "execution_count": null,
      "outputs": []
    },
    {
      "cell_type": "code",
      "metadata": {
        "id": "kC2IKRm9rHP6"
      },
      "source": [
        "usaveis.loc['12 Acre'].T.plot(figsize=(10,6))"
      ],
      "execution_count": null,
      "outputs": []
    },
    {
      "cell_type": "code",
      "metadata": {
        "id": "2I3KseUorHS3"
      },
      "source": [
        "usaveis['2007/Dez'] = float('nan')"
      ],
      "execution_count": null,
      "outputs": []
    },
    {
      "cell_type": "code",
      "metadata": {
        "id": "y3PTejJirHVV"
      },
      "source": [
        "usaveis.loc['12 Acre'].T.plot(figsize=(10,6))"
      ],
      "execution_count": null,
      "outputs": []
    },
    {
      "cell_type": "code",
      "metadata": {
        "id": "Y8lwaLMD8obc"
      },
      "source": [
        "acre = usaveis.loc['12 Acre'].T"
      ],
      "execution_count": null,
      "outputs": []
    },
    {
      "cell_type": "code",
      "metadata": {
        "id": "mkeOFse-8rpa"
      },
      "source": [
        "acre['2007/Nov']"
      ],
      "execution_count": null,
      "outputs": []
    },
    {
      "cell_type": "code",
      "metadata": {
        "id": "eGzxo6ty_Rd6"
      },
      "source": [
        "acre['2008/Jan']"
      ],
      "execution_count": null,
      "outputs": []
    },
    {
      "cell_type": "code",
      "metadata": {
        "id": "zSWvhtfXrHfX"
      },
      "source": [
        "acre['2007/Dez'] = 1000000.0"
      ],
      "execution_count": null,
      "outputs": []
    },
    {
      "cell_type": "code",
      "metadata": {
        "id": "oFjO24QWrHh6"
      },
      "source": [
        "acre.plot(figsize=(10,6))"
      ],
      "execution_count": null,
      "outputs": []
    },
    {
      "cell_type": "code",
      "metadata": {
        "id": "5XeGi2cprHdi"
      },
      "source": [
        "acre['2007/Dez'] = float('nan')\n",
        "acre['2010/Dez'] = float('nan')\n",
        "acre['2015/Dez'] = float('nan')"
      ],
      "execution_count": null,
      "outputs": []
    },
    {
      "cell_type": "code",
      "metadata": {
        "id": "Crgb8CyDx-_J"
      },
      "source": [
        "acre.plot(figsize=(10,6))"
      ],
      "execution_count": null,
      "outputs": []
    },
    {
      "cell_type": "code",
      "metadata": {
        "id": "b8CcmtwS4a2a"
      },
      "source": [
        "acre = acre.reset_index()"
      ],
      "execution_count": null,
      "outputs": []
    },
    {
      "cell_type": "code",
      "metadata": {
        "id": "PZM-qjAiJBVr"
      },
      "source": [
        "acre.head()"
      ],
      "execution_count": null,
      "outputs": []
    },
    {
      "cell_type": "code",
      "metadata": {
        "id": "tzip0Sw1I7tx"
      },
      "source": [
        "acre = acre.drop('index',axis=1)"
      ],
      "execution_count": null,
      "outputs": []
    },
    {
      "cell_type": "code",
      "metadata": {
        "id": "v-mVXtwCSuT5"
      },
      "source": [
        "acre.fillna(method='ffill').head()"
      ],
      "execution_count": null,
      "outputs": []
    },
    {
      "cell_type": "code",
      "metadata": {
        "id": "B3FLjKJyUrKQ"
      },
      "source": [
        "acre.interpolate(method='linear').head(6)"
      ],
      "execution_count": null,
      "outputs": []
    },
    {
      "cell_type": "code",
      "metadata": {
        "id": "QUNdcPHUKrXZ"
      },
      "source": [
        "acre.interpolate(method='linear').plot(figsize=(10,6))"
      ],
      "execution_count": null,
      "outputs": []
    },
    {
      "cell_type": "code",
      "metadata": {
        "id": "ZWklH1ZLZ4Tf"
      },
      "source": [
        "acre.interpolate(method='spline', order=3).plot(figsize=(10,6))"
      ],
      "execution_count": null,
      "outputs": []
    },
    {
      "cell_type": "code",
      "metadata": {
        "id": "8CiqOocfXEyG"
      },
      "source": [
        "url2 = 'https://raw.githubusercontent.com/allanspadini/pandas_quarta/main/clima.csv'"
      ],
      "execution_count": null,
      "outputs": []
    },
    {
      "cell_type": "code",
      "metadata": {
        "id": "DndYxJBPeOUh"
      },
      "source": [
        "clima = pd.read_csv(url2,parse_dates=['dia'])"
      ],
      "execution_count": null,
      "outputs": []
    },
    {
      "cell_type": "code",
      "metadata": {
        "id": "wUTA71UVeidv"
      },
      "source": [
        "clima"
      ],
      "execution_count": null,
      "outputs": []
    },
    {
      "cell_type": "code",
      "metadata": {
        "id": "zEEQcof2ga3j"
      },
      "source": [
        "clima.set_index('dia',inplace=True)"
      ],
      "execution_count": null,
      "outputs": []
    },
    {
      "cell_type": "code",
      "metadata": {
        "id": "pY1eVOQ_ewNf"
      },
      "source": [
        "clima.dropna()"
      ],
      "execution_count": null,
      "outputs": []
    },
    {
      "cell_type": "code",
      "metadata": {
        "id": "twXZZ_refNXC"
      },
      "source": [
        "clima.dropna(how='all')"
      ],
      "execution_count": null,
      "outputs": []
    },
    {
      "cell_type": "code",
      "metadata": {
        "id": "yVrC6MqkfOzR"
      },
      "source": [
        "clima.dropna(thresh=2)"
      ],
      "execution_count": null,
      "outputs": []
    },
    {
      "cell_type": "code",
      "metadata": {
        "id": "7Fv0esRkiDWl"
      },
      "source": [
        ""
      ],
      "execution_count": null,
      "outputs": []
    }
  ]
}